{
 "cells": [
  {
   "cell_type": "markdown",
   "id": "a6daf6a9",
   "metadata": {},
   "source": [
    "# Modern Health Care: Innovations and Impact"
   ]
  },
  {
   "cell_type": "raw",
   "id": "2e82e680",
   "metadata": {},
   "source": [
    " Creating a PowerPoint presentation programmatically using Python can be done with the help of libraries like python-pptx. Below is an example of how you can create a PowerPoint presentation about health care without API errors using Python. You can customize the title and content as per your requirements."
   ]
  },
  {
   "cell_type": "markdown",
   "id": "49227368",
   "metadata": {},
   "source": [
    "# python-pptx installed"
   ]
  },
  {
   "cell_type": "code",
   "execution_count": 2,
   "id": "2c3f5b94",
   "metadata": {},
   "outputs": [
    {
     "name": "stdout",
     "output_type": "stream",
     "text": [
      "Defaulting to user installation because normal site-packages is not writeable\n",
      "Requirement already satisfied: python-pptx in c:\\users\\purnangshu roy\\appdata\\roaming\\python\\python311\\site-packages (1.0.2)\n",
      "Requirement already satisfied: Pillow>=3.3.2 in c:\\programdata\\anaconda3\\lib\\site-packages (from python-pptx) (9.4.0)\n",
      "Requirement already satisfied: XlsxWriter>=0.5.7 in c:\\users\\purnangshu roy\\appdata\\roaming\\python\\python311\\site-packages (from python-pptx) (3.2.0)\n",
      "Requirement already satisfied: lxml>=3.1.0 in c:\\programdata\\anaconda3\\lib\\site-packages (from python-pptx) (4.9.2)\n",
      "Requirement already satisfied: typing-extensions>=4.9.0 in c:\\users\\purnangshu roy\\appdata\\roaming\\python\\python311\\site-packages (from python-pptx) (4.12.2)\n",
      "Note: you may need to restart the kernel to use updated packages.\n"
     ]
    }
   ],
   "source": [
    "pip install python-pptx"
   ]
  },
  {
   "cell_type": "code",
   "execution_count": 4,
   "id": "daa71a1f",
   "metadata": {},
   "outputs": [],
   "source": [
    "from pptx import Presentation\n",
    "from pptx.util import Inches\n",
    "\n",
    "# Create a presentation object\n",
    "presentation = Presentation()\n",
    "\n",
    "# Slide 1: Title Slide\n",
    "slide_title = presentation.slides.add_slide(presentation.slide_layouts[0])\n",
    "title = slide_title.shapes.title\n",
    "subtitle = slide_title.placeholders[1]\n",
    "\n",
    "title.text = \"Modern Health Care: Innovations and Impact\"\n",
    "subtitle.text = \"Exploring the Future of Health Services\"\n",
    "\n",
    "# Slide 2: Overview of Health Care\n",
    "slide_overview = presentation.slides.add_slide(presentation.slide_layouts[1])\n",
    "title = slide_overview.shapes.title\n",
    "content = slide_overview.placeholders[1]\n",
    "\n",
    "title.text = \"Overview of Health Care\"\n",
    "content.text = (\"- Definition of health care\\n\"\n",
    "                \"- Importance and scope\\n\"\n",
    "                \"- Key components: prevention, treatment, and management\\n\")\n",
    "\n",
    "# Slide 3: Innovations in Health Care\n",
    "slide_innovations = presentation.slides.add_slide(presentation.slide_layouts[1])\n",
    "title = slide_innovations.shapes.title\n",
    "content = slide_innovations.placeholders[1]\n",
    "\n",
    "title.text = \"Innovations in Health Care\"\n",
    "content.text = (\"- Telemedicine\\n\"\n",
    "                \"- Electronic Health Records (EHR)\\n\"\n",
    "                \"- AI and Machine Learning in diagnostics\\n\"\n",
    "                \"- Wearable health technology\\n\")\n",
    "\n",
    "# Slide 4: Real-time Example: Telemedicine\n",
    "slide_real_time_example = presentation.slides.add_slide(presentation.slide_layouts[1])\n",
    "title = slide_real_time_example.shapes.title\n",
    "content = slide_real_time_example.placeholders[1]\n",
    "\n",
    "title.text = \"Real-time Example: Telemedicine\"\n",
    "content.text = (\"- Accessibility to health care during the COVID-19 pandemic.\\n\"\n",
    "                \"- Example: Doctor on Demand and its impact on patient care.\\n\"\n",
    "                \"- Benefits: Convenience, cost-effectiveness, and time-saving.\\n\")\n",
    "\n",
    "# Slide 5: Challenges in Health Care\n",
    "slide_challenges = presentation.slides.add_slide(presentation.slide_layouts[1])\n",
    "title = slide_challenges.shapes.title\n",
    "content = slide_challenges.placeholders[1]\n",
    "\n",
    "title.text = \"Challenges in Health Care\"\n",
    "content.text = (\"- Rising costs of medical services\\n\"\n",
    "                \"- Equity in health access\\n\"\n",
    "                \"- Cybersecurity threats to patient data\\n\")\n",
    "\n",
    "# Slide 6: Conclusion\n",
    "slide_conclusion = presentation.slides.add_slide(presentation.slide_layouts[1])\n",
    "title = slide_conclusion.shapes.title\n",
    "content = slide_conclusion.placeholders[1]\n",
    "\n",
    "title.text = \"Conclusion\"\n",
    "content.text = (\"The health care industry is rapidly evolving.\\n\"\n",
    "                \"Embracing innovations like telemedicine can improve access and efficiency.\\n\"\n",
    "                \"However, overcoming challenges is essential for sustainable growth.\")\n",
    "\n",
    "# Save the presentation\n",
    "presentation.save(\"health_care_presentation.pptx\")"
   ]
  },
  {
   "cell_type": "code",
   "execution_count": null,
   "id": "3ee96ab4",
   "metadata": {},
   "outputs": [],
   "source": []
  },
  {
   "cell_type": "code",
   "execution_count": null,
   "id": "c242d8c0",
   "metadata": {},
   "outputs": [],
   "source": []
  }
 ],
 "metadata": {
  "kernelspec": {
   "display_name": "Python 3 (ipykernel)",
   "language": "python",
   "name": "python3"
  },
  "language_info": {
   "codemirror_mode": {
    "name": "ipython",
    "version": 3
   },
   "file_extension": ".py",
   "mimetype": "text/x-python",
   "name": "python",
   "nbconvert_exporter": "python",
   "pygments_lexer": "ipython3",
   "version": "3.11.4"
  }
 },
 "nbformat": 4,
 "nbformat_minor": 5
}
